{
 "cells": [
  {
   "cell_type": "code",
   "execution_count": 1,
   "id": "b854bc0b-13e7-4992-bc86-2ad1a76828d0",
   "metadata": {},
   "outputs": [
    {
     "name": "stderr",
     "output_type": "stream",
     "text": [
      "[INFO   ] [Logger      ] Record log in C:\\Users\\andre\\.kivy\\logs\\kivy_22-12-24_25.txt\n",
      "[INFO   ] [deps        ] Successfully imported \"kivy_deps.angle\" 0.3.3\n",
      "[INFO   ] [deps        ] Successfully imported \"kivy_deps.glew\" 0.3.1\n",
      "[INFO   ] [deps        ] Successfully imported \"kivy_deps.sdl2\" 0.4.5\n",
      "[INFO   ] [Kivy        ] v2.1.0\n",
      "[INFO   ] [Kivy        ] Installed at \"D:\\Anaconda\\envs\\Python310\\lib\\site-packages\\kivy\\__init__.py\"\n",
      "[INFO   ] [Python      ] v3.9.15 (main, Nov 24 2022, 14:39:17) [MSC v.1916 64 bit (AMD64)]\n",
      "[INFO   ] [Python      ] Interpreter at \"D:\\Anaconda\\envs\\Python310\\python.exe\"\n",
      "[INFO   ] [Logger      ] Purge log fired. Processing...\n",
      "[INFO   ] [Logger      ] Purge finished!\n",
      "[INFO   ] [Factory     ] 189 symbols loaded\n",
      "[INFO   ] [Image       ] Providers: img_tex, img_dds, img_sdl2, img_pil (img_ffpyplayer ignored)\n",
      "[INFO   ] [Text        ] Provider: sdl2\n",
      "[INFO   ] [Window      ] Provider: sdl2\n",
      "[INFO   ] [GL          ] Using the \"OpenGL\" graphics system\n",
      "[INFO   ] [GL          ] GLEW initialization succeeded\n",
      "[INFO   ] [GL          ] Backend used <glew>\n",
      "[INFO   ] [GL          ] OpenGL version <b'4.6.0 NVIDIA 516.94'>\n",
      "[INFO   ] [GL          ] OpenGL vendor <b'NVIDIA Corporation'>\n",
      "[INFO   ] [GL          ] OpenGL renderer <b'NVIDIA GeForce GTX 1050 Ti/PCIe/SSE2'>\n",
      "[INFO   ] [GL          ] OpenGL parsed version: 4, 6\n",
      "[INFO   ] [GL          ] Shading version <b'4.60 NVIDIA'>\n",
      "[INFO   ] [GL          ] Texture max size <32768>\n",
      "[INFO   ] [GL          ] Texture max units <32>\n",
      "[INFO   ] [Window      ] auto add sdl2 input provider\n",
      "[INFO   ] [Window      ] virtual keyboard not allowed, single mode, not docked\n",
      "[INFO   ] [GL          ] NPOT texture support is available\n",
      "[WARNING] Deprecated property \"<VariableListProperty name=padding_y>\" of object \"<kivy.uix.textinput.TextInput object at 0x000001CC02269DD0>\" has been set, it will be removed in a future version\n",
      "[INFO   ] [Base        ] Start application main loop\n",
      "[INFO   ] [Base        ] Leaving application in progress...\n"
     ]
    }
   ],
   "source": [
    "#Walk through https://www.youtube.com/watch?v=YDp73WjNISc\n",
    "\n",
    "from kivy.app import App\n",
    "from kivy.uix.gridlayout import GridLayout\n",
    "from kivy.uix.label import Label\n",
    "from kivy.uix.image import Image\n",
    "from kivy.uix.button import Button\n",
    "from kivy.uix.textinput import TextInput\n",
    "        \n",
    "class SayHello(App):\n",
    "    \n",
    "    def build(self):\n",
    "        \n",
    "        self.window = GridLayout()\n",
    "        self.window.cols = 1\n",
    "        self.window.size_hint = (0.6, 0.7) # side margin is 60 percent,top and bottom margin is 70\n",
    "        self.window.pos_hint ={\"center_x\" : 0.5, \"center_y\" : 0.5}\n",
    "        #add widgets to the window\n",
    "        \n",
    "        #image widget \n",
    "        self.window.add_widget(Image(source = \"mypicture.png\"))\n",
    "        \n",
    "        #Label widget\n",
    "        self.greeting = Label(text =\"What's your name?\", font_size = 18, color ='#00FFCE')\n",
    "        self.window.add_widget(self.greeting)\n",
    "        \n",
    "        #text input widget\n",
    "        self.user = TextInput(multiline = False, padding_y = (20,20), size_hint = (1,0.5))\n",
    "        self.window.add_widget(self.user)\n",
    "        \n",
    "        #Button widget\n",
    "        self.button = Button(text = \"GREET\", size_hint =(1,0.5), bold = True, background_color = '#00FFCE', background_normal =\"\")\n",
    "        self.button.bind(on_press = self.callback)        \n",
    "        self.window.add_widget(self.button)\n",
    "\n",
    "        return self.window\n",
    "        \n",
    "    def callback(self, instance):\n",
    "        self.greeting.text = \"Hello \" + self.user.text + \"!\"\n",
    "        \n",
    "        \n",
    "        \n",
    "        \n",
    "        \n",
    "        return self.window\n",
    "    \n",
    "if __name__ == \"__main__\":\n",
    "    SayHello().run()\n",
    "        "
   ]
  },
  {
   "cell_type": "code",
   "execution_count": null,
   "id": "af7ef379-3375-4bc8-b1b3-55b2017c8f68",
   "metadata": {},
   "outputs": [],
   "source": []
  }
 ],
 "metadata": {
  "kernelspec": {
   "display_name": "Python 3 (ipykernel)",
   "language": "python",
   "name": "python3"
  },
  "language_info": {
   "codemirror_mode": {
    "name": "ipython",
    "version": 3
   },
   "file_extension": ".py",
   "mimetype": "text/x-python",
   "name": "python",
   "nbconvert_exporter": "python",
   "pygments_lexer": "ipython3",
   "version": "3.9.15"
  }
 },
 "nbformat": 4,
 "nbformat_minor": 5
}
