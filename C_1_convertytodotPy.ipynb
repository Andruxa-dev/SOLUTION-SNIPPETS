{
 "cells": [
  {
   "cell_type": "code",
   "execution_count": null,
   "id": "022e653e-8dc3-4f54-8af2-e2064abb563a",
   "metadata": {},
   "outputs": [],
   "source": [
    "#testing .py file conversion\n",
    "#https://www.youtube.com/watch?v=3q80zPZyyyM resource on the you tube\n"
   ]
  },
  {
   "cell_type": "code",
   "execution_count": null,
   "id": "762e4e45-e925-4d15-8622-1275de6eb28f",
   "metadata": {},
   "outputs": [],
   "source": [
    "#simply python code\n",
    "a =10 \n",
    "for i in range(a):\n",
    "    print(i)    "
   ]
  },
  {
   "cell_type": "code",
   "execution_count": null,
   "id": "43bfb143-5c50-4b0c-8606-5646f78521e3",
   "metadata": {},
   "outputs": [],
   "source": [
    "%%writefile file1.py\n",
    "# will create .py file\n",
    "a =10 \n",
    "for i in range(a):\n",
    "    print(i)    "
   ]
  },
  {
   "cell_type": "code",
   "execution_count": null,
   "id": "9f34820e-b373-4fbb-bdbc-f5513e055207",
   "metadata": {},
   "outputs": [],
   "source": [
    "#Need to remove this hash tag and this will work, loads file\n",
    "%%load file1.py"
   ]
  },
  {
   "cell_type": "code",
   "execution_count": null,
   "id": "454d2814-f956-41a2-b11f-e92607ffcc3c",
   "metadata": {},
   "outputs": [],
   "source": [
    "%run file1.py"
   ]
  },
  {
   "cell_type": "code",
   "execution_count": null,
   "id": "2a898c2f-b4e8-43f4-8738-353e2cb8c50a",
   "metadata": {},
   "outputs": [],
   "source": []
  }
 ],
 "metadata": {
  "kernelspec": {
   "display_name": "Python 3 (ipykernel)",
   "language": "python",
   "name": "python3"
  },
  "language_info": {
   "codemirror_mode": {
    "name": "ipython",
    "version": 3
   },
   "file_extension": ".py",
   "mimetype": "text/x-python",
   "name": "python",
   "nbconvert_exporter": "python",
   "pygments_lexer": "ipython3",
   "version": "3.9.15"
  }
 },
 "nbformat": 4,
 "nbformat_minor": 5
}
