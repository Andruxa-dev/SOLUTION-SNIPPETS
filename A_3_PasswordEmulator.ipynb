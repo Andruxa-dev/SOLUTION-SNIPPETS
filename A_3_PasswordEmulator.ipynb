{
 "cells": [
  {
   "cell_type": "code",
   "execution_count": null,
   "id": "86a99447-54d7-4d38-9893-f916480bb26c",
   "metadata": {},
   "outputs": [],
   "source": [
    "#Password Generator Project\n",
    "import random\n",
    "letters = ['a', 'b', 'c', 'd', 'e', 'f', 'g', 'h', 'i', 'j', 'k', 'l', 'm', 'n', 'o', 'p', 'q', 'r', 's', 't', 'u', 'v', 'w', 'x', 'y', 'z', 'A', 'B', 'C', 'D', 'E', 'F', 'G', 'H', 'I', 'J', 'K', 'L', 'M', 'N', 'O', 'P', 'Q', 'R', 'S', 'T', 'U', 'V', 'W', 'X', 'Y', 'Z']\n",
    "numbers = ['0', '1', '2', '3', '4', '5', '6', '7', '8', '9']\n",
    "symbols = ['!', '#', '$', '%', '&', '(', ')', '*', '+']\n",
    "\n",
    "print(\"Welcome to the PyPassword Generator!\")\n",
    "nr_letters= int(input(\"How many letters would you like in your password?\\n\")) \n",
    "nr_symbols = int(input(f\"How many symbols would you like?\\n\"))\n",
    "nr_numbers = int(input(f\"How many numbers would you like?\\n\"))\n",
    "\n",
    "for i in range (0,nr_letters):\n",
    "    \n",
    "    random_num1 = random.randint(0,len(letters)-1)\n",
    "    list2.append(letters[random_num1])                                \n",
    "                                      \n",
    "for i in range (0,nr_symbols):\n",
    "       \n",
    "    random_num2 = random.randint(0,len(symbols)-1)\n",
    "    list2.append(symbols[random_num2])\n",
    "    \n",
    "for i in range (0,nr_numbers):\n",
    "        \n",
    "    random_num3 = random.randint(0,len(numbers)-1)\n",
    "    list2.append(numbers[random_num3]) \n",
    "\n",
    "random.shuffle(list2)\n",
    "\n",
    "pass_string=\"\"\n",
    "\n",
    "for element in list2:\n",
    "    \n",
    "    pass_string = pass_string + str(element)\n",
    "\n",
    "print(\"Your generated password is:\", pass_string)"
   ]
  }
 ],
 "metadata": {
  "kernelspec": {
   "display_name": "Python 3 (ipykernel)",
   "language": "python",
   "name": "python3"
  },
  "language_info": {
   "codemirror_mode": {
    "name": "ipython",
    "version": 3
   },
   "file_extension": ".py",
   "mimetype": "text/x-python",
   "name": "python",
   "nbconvert_exporter": "python",
   "pygments_lexer": "ipython3",
   "version": "3.9.12"
  }
 },
 "nbformat": 4,
 "nbformat_minor": 5
}
