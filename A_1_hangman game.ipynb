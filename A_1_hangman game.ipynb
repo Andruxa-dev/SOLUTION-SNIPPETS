{
 "cells": [
  {
   "cell_type": "code",
   "execution_count": null,
   "id": "f27ba59d-581e-44a4-a3e9-72480f5c9e03",
   "metadata": {},
   "outputs": [],
   "source": [
    "#Rules of the game\n",
    "\n",
    "#You are given 5 tries to guess a word that is randomly generated from a list\n",
    "#You can guess by inputing one letter at a time or a series of letters\n",
    "\n",
    "\n",
    "\n",
    "# SUMMARY\n",
    "# generation of random word from a given list \n",
    "# creating a blank template for replacement of its elements\n",
    "# conditional looping to fit the rules of the game\n",
    "# collecting user input and informing the user of the outcomes"
   ]
  },
  {
   "cell_type": "code",
   "execution_count": null,
   "id": "8eab2ec4-de55-4008-af80-85aa3cdca960",
   "metadata": {
    "tags": []
   },
   "outputs": [],
   "source": [
    "import random\n",
    "#list must be in lower letters\n",
    "word_list = [\"aardvark\", \"baboon\", \"camel\"]\n",
    "\n",
    "########################\n",
    "chosen_word = word_list[random.randint(0,(len(word_list)-1))]\n",
    "chosen_word_list = []\n",
    "for element in chosen_word:\n",
    "    chosen_word_list.append(element)\n",
    "    \n",
    "########################\n",
    "blank_template_list = []\n",
    "for element in chosen_word:\n",
    "    blank_template_list.append(\" - \")\n",
    "print(blank_template_list)\n",
    "\n",
    "########################\n",
    "print(\"You have 5 tries to guess all the letters\")\n",
    "tries = 5\n",
    "   \n",
    "while tries != 0:\n",
    "        \n",
    "    guess = (input(\"Please guess a letter:\")).lower()\n",
    "    guess_list = []\n",
    "    for element in guess:\n",
    "        guess_list.append(element)\n",
    "        \n",
    "    for element in guess_list:\n",
    "\n",
    "        count1 = chosen_word_list.count(element)\n",
    "\n",
    "        if count1 != 0:\n",
    "\n",
    "            for count, ele in enumerate(chosen_word_list):\n",
    "\n",
    "                if element == ele:\n",
    "\n",
    "                    blank_template_list[count] = element\n",
    "                    \n",
    "            print(blank_template_list)\n",
    "\n",
    "            if \" - \" not in blank_template_list:\n",
    "                \n",
    "                tries = 0\n",
    "                print(\"You guessed all the letters correctly, thank you for playing!\")\n",
    "                                        \n",
    "        else:\n",
    "\n",
    "            tries -=1\n",
    "            print(f\"sorry wrong letter! You have {tries} tries left \")\n",
    "\n",
    "    if tries <= 0 and \" - \" in blank_template_list:\n",
    "\n",
    "        print(\"You are out of tries, thank you for playing\")\n",
    "\n",
    "    else:\n",
    "        pass\n",
    "\n",
    "    print(blank_template_list)"
   ]
  }
 ],
 "metadata": {
  "kernelspec": {
   "display_name": "Python 3 (ipykernel)",
   "language": "python",
   "name": "python3"
  },
  "language_info": {
   "codemirror_mode": {
    "name": "ipython",
    "version": 3
   },
   "file_extension": ".py",
   "mimetype": "text/x-python",
   "name": "python",
   "nbconvert_exporter": "python",
   "pygments_lexer": "ipython3",
   "version": "3.9.12"
  }
 },
 "nbformat": 4,
 "nbformat_minor": 5
}
