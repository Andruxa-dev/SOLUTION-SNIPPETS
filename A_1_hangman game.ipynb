{
 "cells": [
  {
   "cell_type": "code",
   "execution_count": null,
   "id": "9a7edc0f-8f7d-4e63-bcc3-0793394ca07a",
   "metadata": {},
   "outputs": [],
   "source": [
    "# Generate a random word\n",
    "# create as many blanks as the letters\n",
    "# is the guessed letter in the word?\n",
    "# winning condition  GUESSED WORD\n",
    "# loosing condition  GAME OVER"
   ]
  },
  {
   "cell_type": "code",
   "execution_count": null,
   "id": "2404ffc3-e0b4-40f9-bd6e-1d1f5252e95f",
   "metadata": {},
   "outputs": [],
   "source": [
    "#Step 1 \n",
    "\n",
    "#word_list = [\"aardvark\", \"baboon\", \"camel\"]\n",
    "\n",
    "#TODO-1 - Randomly choose a word from the word_list and assign it to a variable called chosen_word.\n",
    "\n",
    "#TODO-2 - Ask the user to guess a letter and assign their answer to a variable called guess. Make guess lowercase.\n",
    "\n",
    "#TODO-3 - Check if the letter the user guessed (guess) is one of the letters in the chosen_word.\n"
   ]
  },
  {
   "cell_type": "code",
   "execution_count": 15,
   "id": "8eab2ec4-de55-4008-af80-85aa3cdca960",
   "metadata": {},
   "outputs": [
    {
     "name": "stdout",
     "output_type": "stream",
     "text": [
      "[' - ', ' - ', ' - ', ' - ', ' - ', ' - ']\n",
      "You have 5 tries to guess all the letters\n"
     ]
    },
    {
     "name": "stdin",
     "output_type": "stream",
     "text": [
      "Please guess a letter: a\n"
     ]
    },
    {
     "name": "stdout",
     "output_type": "stream",
     "text": [
      "[' - ', 'a', ' - ', ' - ', ' - ', ' - ']\n",
      "[' - ', 'a', ' - ', ' - ', ' - ', ' - ']\n"
     ]
    },
    {
     "name": "stdin",
     "output_type": "stream",
     "text": [
      "Please guess a letter: sdf\n"
     ]
    },
    {
     "name": "stdout",
     "output_type": "stream",
     "text": [
      "sorry wrong letter! You have 4 tries left \n",
      "sorry wrong letter! You have 3 tries left \n",
      "sorry wrong letter! You have 2 tries left \n",
      "[' - ', 'a', ' - ', ' - ', ' - ', ' - ']\n"
     ]
    },
    {
     "name": "stdin",
     "output_type": "stream",
     "text": [
      "Please guess a letter: g\n"
     ]
    },
    {
     "name": "stdout",
     "output_type": "stream",
     "text": [
      "sorry wrong letter! You have 1 tries left \n",
      "[' - ', 'a', ' - ', ' - ', ' - ', ' - ']\n"
     ]
    },
    {
     "name": "stdin",
     "output_type": "stream",
     "text": [
      "Please guess a letter: h\n"
     ]
    },
    {
     "name": "stdout",
     "output_type": "stream",
     "text": [
      "sorry wrong letter! You have 0 tries left \n",
      "You are out of tries, thank you for playing\n",
      "[' - ', 'a', ' - ', ' - ', ' - ', ' - ']\n"
     ]
    }
   ],
   "source": [
    "import random\n",
    "#list must be in lower letters\n",
    "word_list = [\"aardvark\", \"baboon\", \"camel\"]\n",
    "\n",
    "########################\n",
    "chosen_word = word_list[random.randint(0,(len(word_list)-1))]\n",
    "chosen_word_list = []\n",
    "for element in chosen_word:\n",
    "    chosen_word_list.append(element)\n",
    "    \n",
    "########################\n",
    "blank_template_list = []\n",
    "for element in chosen_word:\n",
    "    blank_template_list.append(\" - \")\n",
    "print(blank_template_list)\n",
    "\n",
    "########################\n",
    "print(\"You have 5 tries to guess all the letters\")\n",
    "tries = 5\n",
    "   \n",
    "while tries != 0:\n",
    "        \n",
    "    guess = (input(\"Please guess a letter:\")).lower()\n",
    "    guess_list = []\n",
    "    for element in guess:\n",
    "        guess_list.append(element)\n",
    "        \n",
    "    for element in guess_list:\n",
    "\n",
    "        count1 = chosen_word_list.count(element)\n",
    "\n",
    "        if count1 != 0:\n",
    "\n",
    "            for count, ele in enumerate(chosen_word_list):\n",
    "\n",
    "                if element == ele:\n",
    "\n",
    "                    blank_template_list[count] = element\n",
    "                    \n",
    "            print(blank_template_list)\n",
    "\n",
    "            if \" - \" not in blank_template_list:\n",
    "                \n",
    "                tries = 0\n",
    "                print(\"You guessed all the letters correctly, thank you for playing!\")\n",
    "                                        \n",
    "        else:\n",
    "\n",
    "            tries -=1\n",
    "            print(f\"sorry wrong letter! You have {tries} tries left \")\n",
    "\n",
    "    if tries <= 0 and \" - \" in blank_template_list:\n",
    "\n",
    "        print(\"You are out of tries, thank you for playing\")\n",
    "\n",
    "    else:\n",
    "        pass\n",
    "\n",
    "    print(blank_template_list)"
   ]
  },
  {
   "cell_type": "code",
   "execution_count": null,
   "id": "0d7f2f95-2073-4195-b81c-b815d73d94fd",
   "metadata": {},
   "outputs": [],
   "source": [
    "blank_template_list\n"
   ]
  },
  {
   "cell_type": "code",
   "execution_count": null,
   "id": "199822b0-61bd-4948-b3bf-15a1af744288",
   "metadata": {},
   "outputs": [],
   "source": [
    "blank_template"
   ]
  },
  {
   "cell_type": "code",
   "execution_count": null,
   "id": "2950416f-f014-4b97-8083-886edfa97958",
   "metadata": {},
   "outputs": [],
   "source": [
    "chosen_word_list"
   ]
  },
  {
   "cell_type": "code",
   "execution_count": null,
   "id": "abc45071-8145-48f0-95e8-812e5eb55141",
   "metadata": {},
   "outputs": [],
   "source": [
    "obj1 = enumerate(chosen_word_list)"
   ]
  },
  {
   "cell_type": "code",
   "execution_count": null,
   "id": "3dcf1a55-d603-4794-8e7a-6bbb962e9d01",
   "metadata": {},
   "outputs": [],
   "source": [
    "obj1"
   ]
  },
  {
   "cell_type": "code",
   "execution_count": null,
   "id": "8c853bca-6461-499a-8dc2-24f69b5a898f",
   "metadata": {},
   "outputs": [],
   "source": [
    "type(obj1)"
   ]
  },
  {
   "cell_type": "code",
   "execution_count": null,
   "id": "55cbe667-69cf-4665-b15e-71adc30c733c",
   "metadata": {},
   "outputs": [],
   "source": [
    "for element in guess_list:\n",
    "    \n",
    "    count1 = chosen_word_list.count(element)\n",
    "    \n",
    "    if count1 != 0:\n",
    "        \n",
    "        for item in chosen_word_list:\n",
    "        \n",
    "            if element == item\n",
    "\n",
    "for count, ele in enumerate(chosen_word_list):\n",
    "    #print (ele)\n",
    "    print(count)\n",
    "    if "
   ]
  },
  {
   "cell_type": "code",
   "execution_count": null,
   "id": "198a1005-0724-4ae1-bd65-760a92c37443",
   "metadata": {},
   "outputs": [],
   "source": [
    "x = enumerate(chosen_word_list[1])"
   ]
  },
  {
   "cell_type": "code",
   "execution_count": null,
   "id": "e8c784a0-a9cf-4ff9-942f-84ab99998a2c",
   "metadata": {},
   "outputs": [],
   "source": [
    "print(x)"
   ]
  },
  {
   "cell_type": "code",
   "execution_count": null,
   "id": "6926bb3f-07ff-4538-9fcd-6004e7b0c9b2",
   "metadata": {},
   "outputs": [],
   "source": []
  }
 ],
 "metadata": {
  "kernelspec": {
   "display_name": "Python 3 (ipykernel)",
   "language": "python",
   "name": "python3"
  },
  "language_info": {
   "codemirror_mode": {
    "name": "ipython",
    "version": 3
   },
   "file_extension": ".py",
   "mimetype": "text/x-python",
   "name": "python",
   "nbconvert_exporter": "python",
   "pygments_lexer": "ipython3",
   "version": "3.9.12"
  }
 },
 "nbformat": 4,
 "nbformat_minor": 5
}
