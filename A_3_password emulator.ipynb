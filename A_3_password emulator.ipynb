{
 "cells": [
  {
   "cell_type": "code",
   "execution_count": null,
   "id": "948ad780-3534-4665-8ce3-7d5e09516346",
   "metadata": {},
   "outputs": [],
   "source": [
    "#Task\n",
    "#create a password using letters, numbers and symbols randomy generated from given lists\n",
    "#randomize the order of letters, numbers and symbols that compose the generated password\n",
    "\n",
    "#SUMMARY\n",
    "#create lists for letters, numbers and symbols\n",
    "#prompt user input to establish constraints on password generation\n",
    "#apply logic to randomize elements of the lists based on user constraints\n",
    "#show user the generated password"
   ]
  },
  {
   "cell_type": "code",
   "execution_count": 2,
   "id": "86a99447-54d7-4d38-9893-f916480bb26c",
   "metadata": {
    "tags": []
   },
   "outputs": [
    {
     "name": "stdout",
     "output_type": "stream",
     "text": [
      "Welcome to the PyPassword Generator!\n"
     ]
    },
    {
     "name": "stdin",
     "output_type": "stream",
     "text": [
      "How many letters would you like in your password?\n",
      " 2\n",
      "How many symbols would you like?\n",
      " 1\n",
      "How many numbers would you like?\n",
      " 1\n"
     ]
    },
    {
     "name": "stdout",
     "output_type": "stream",
     "text": [
      "Your generated password is: U*d2\n"
     ]
    }
   ],
   "source": [
    "#Password Generator Project\n",
    "import random\n",
    "letters = ['a', 'b', 'c', 'd', 'e', 'f', 'g', 'h', 'i', 'j', 'k', 'l', 'm', 'n', 'o', 'p', 'q', 'r', 's', 't', 'u', 'v', 'w', 'x', 'y', 'z', 'A', 'B', 'C', 'D', 'E', 'F', 'G', 'H', 'I', 'J', 'K', 'L', 'M', 'N', 'O', 'P', 'Q', 'R', 'S', 'T', 'U', 'V', 'W', 'X', 'Y', 'Z']\n",
    "numbers = ['0', '1', '2', '3', '4', '5', '6', '7', '8', '9']\n",
    "symbols = ['!', '#', '$', '%', '&', '(', ')', '*', '+']\n",
    "\n",
    "print(\"Welcome to the PyPassword Generator!\")\n",
    "nr_letters= int(input(\"How many letters would you like in your password?\\n\")) \n",
    "nr_symbols = int(input(f\"How many symbols would you like?\\n\"))\n",
    "nr_numbers = int(input(f\"How many numbers would you like?\\n\"))\n",
    "\n",
    "list2=[]\n",
    "\n",
    "for i in range (0,nr_letters):\n",
    "    \n",
    "    random_num1 = random.randint(0,len(letters)-1)\n",
    "    list2.append(letters[random_num1])                                \n",
    "                                      \n",
    "for i in range (0,nr_symbols):\n",
    "       \n",
    "    random_num2 = random.randint(0,len(symbols)-1)\n",
    "    list2.append(symbols[random_num2])\n",
    "    \n",
    "for i in range (0,nr_numbers):\n",
    "        \n",
    "    random_num3 = random.randint(0,len(numbers)-1)\n",
    "    list2.append(numbers[random_num3]) \n",
    "\n",
    "random.shuffle(list2)\n",
    "\n",
    "pass_string=\"\"\n",
    "\n",
    "for element in list2:\n",
    "    \n",
    "    pass_string = pass_string + str(element)\n",
    "\n",
    "print(\"Your generated password is:\", pass_string)"
   ]
  },
  {
   "cell_type": "code",
   "execution_count": null,
   "id": "7c53c71d-bc61-4ef8-89b1-146b1757347c",
   "metadata": {},
   "outputs": [],
   "source": []
  }
 ],
 "metadata": {
  "kernelspec": {
   "display_name": "Python 3 (ipykernel)",
   "language": "python",
   "name": "python3"
  },
  "language_info": {
   "codemirror_mode": {
    "name": "ipython",
    "version": 3
   },
   "file_extension": ".py",
   "mimetype": "text/x-python",
   "name": "python",
   "nbconvert_exporter": "python",
   "pygments_lexer": "ipython3",
   "version": "3.9.12"
  }
 },
 "nbformat": 4,
 "nbformat_minor": 5
}
