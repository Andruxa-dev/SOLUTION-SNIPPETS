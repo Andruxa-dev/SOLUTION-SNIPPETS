{
 "cells": [
  {
   "cell_type": "code",
   "execution_count": 7,
   "id": "869ebdbf-1581-40fe-9cef-19e3c7695ba8",
   "metadata": {},
   "outputs": [
    {
     "name": "stdin",
     "output_type": "stream",
     "text": [
      "Please enter the height of the area. 5\n",
      "Please enter the width of the area. 5\n",
      "Please enter the coverage of one can. 2\n"
     ]
    },
    {
     "name": "stdout",
     "output_type": "stream",
     "text": [
      "You will need 13 cans to get the job done.\n"
     ]
    }
   ],
   "source": [
    "import math\n",
    "\n",
    "height = input(\"Please enter the height of the area:\")\n",
    "width = input(\"Please enter the width of the area:\")\n",
    "cover = input(\"Please enter the coverage of one can:\")\n",
    "\n",
    "def paint_calc(height1,width1,cover1):\n",
    "    \n",
    "    can_num = (float(height)*float(width))/float(cover)\n",
    "    can_num = math.ceil(can_num)\n",
    "    \n",
    "    print(f\"You will need {can_num} cans to get the job done.\")\n",
    "\n",
    "paint_calc(height1 = height, width1 = width, cover1 = cover)"
   ]
  },
  {
   "cell_type": "code",
   "execution_count": null,
   "id": "e68a03dd-61d6-4890-ab00-6b9fb729181c",
   "metadata": {},
   "outputs": [],
   "source": []
  }
 ],
 "metadata": {
  "kernelspec": {
   "display_name": "Python 3 (ipykernel)",
   "language": "python",
   "name": "python3"
  },
  "language_info": {
   "codemirror_mode": {
    "name": "ipython",
    "version": 3
   },
   "file_extension": ".py",
   "mimetype": "text/x-python",
   "name": "python",
   "nbconvert_exporter": "python",
   "pygments_lexer": "ipython3",
   "version": "3.9.12"
  }
 },
 "nbformat": 4,
 "nbformat_minor": 5
}
