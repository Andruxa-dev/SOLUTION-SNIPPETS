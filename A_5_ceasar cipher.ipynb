{
 "cells": [
  {
   "cell_type": "code",
   "execution_count": null,
   "id": "356a4be9-908b-42a4-9425-39c503cf63f7",
   "metadata": {},
   "outputs": [],
   "source": [
    "#Implement a variation of the caesar cipher\n",
    "#https://www.tutorialspoint.com/cryptography_with_python/cryptography_with_python_caesar_cipher.htm\n",
    "\n",
    "#Summary\n",
    "# shift to the right (Ascending list index), if out of index shift moves to the beginning of the list\n",
    "# shuffled key, decryption works only within the same version of the running instance\n",
    "# no failsafes in input, so type carefully"
   ]
  },
  {
   "cell_type": "code",
   "execution_count": null,
   "id": "6bc60d42-d4e4-40e2-9697-ed39ae600a37",
   "metadata": {},
   "outputs": [
    {
     "name": "stdin",
     "output_type": "stream",
     "text": [
      "Type 'encode' to encrypt, type 'decode' to decrypt:\n",
      " encode\n",
      "Type your message:\n",
      " hello\n",
      "Type the shift number:\n",
      " 5\n"
     ]
    },
    {
     "name": "stdout",
     "output_type": "stream",
     "text": [
      "your encrypted message is: ['r', 'v', 'k', 'k', 'n']\n"
     ]
    }
   ],
   "source": [
    "\n",
    "import random\n",
    "\n",
    "a = 0\n",
    "\n",
    "alphabet = ['a', 'b', 'c', 'd', 'e', 'f', 'g', 'h', 'i', 'j', 'k', 'l', 'm', 'n', 'o', 'p', 'q', 'r', 's', 't', 'u', 'v', 'w', 'x', 'y', 'z']    \n",
    "random.shuffle(alphabet)\n",
    "\n",
    "while a !=1:\n",
    "\n",
    "    direction = input(\"Type 'encode' to encrypt, type 'decode' to decrypt:\\n\")\n",
    "    text = input(\"Type your message:\\n\").lower()\n",
    "    shift = int(input(\"Type the shift number:\\n\"))\n",
    "\n",
    "    #########################\n",
    "    text_input_list = []\n",
    "    for element in text:        \n",
    "        text_input_list.append(element)\n",
    "    #########################\n",
    "\n",
    "    encrypted_output = []\n",
    "\n",
    "    ##################################################################################\n",
    "    def encrypt(text1,shift1):\n",
    "\n",
    "        for element in text_input_list:\n",
    "\n",
    "            if element != \" \":\n",
    "\n",
    "                loc = alphabet.index(element)    \n",
    "                loc_end_alph = len(alphabet) - loc\n",
    "\n",
    "                #####################################################################\n",
    "\n",
    "                if loc_end_alph >shift:\n",
    "\n",
    "                    for index, letter in enumerate(alphabet):\n",
    "\n",
    "                        if element == letter:\n",
    "\n",
    "                            encrypted_output.append(alphabet[index + shift])\n",
    "\n",
    "                else:\n",
    "                    pass\n",
    "\n",
    "                if loc_end_alph < shift:\n",
    "\n",
    "                    diff = shift - loc_end_alph\n",
    "\n",
    "                    for index, letter in enumerate(alphabet):\n",
    "\n",
    "                        if element == letter:\n",
    "\n",
    "                            encrypted_output.append(alphabet[diff])\n",
    "\n",
    "                else:\n",
    "                    pass\n",
    "\n",
    "                #######################################################################\n",
    "\n",
    "            else:\n",
    "                pass\n",
    "\n",
    "        return encrypted_output\n",
    "    ##################################################################################\n",
    "\n",
    "    decrypted_output = []\n",
    "\n",
    "    def decrypt(text1,shift1):\n",
    "\n",
    "        for element in text_input_list:\n",
    "\n",
    "            if element != \" \":\n",
    "\n",
    "                loc = alphabet.index(element)    \n",
    "                loc_end_alph = abs(loc - shift)\n",
    "\n",
    "                ######################################################################\n",
    "\n",
    "                if loc < shift:\n",
    "\n",
    "                    decrypted_output.append(alphabet[len(alphabet)-loc_end_alph])\n",
    "\n",
    "                else:\n",
    "                    pass\n",
    "\n",
    "\n",
    "                if loc >= shift:\n",
    "\n",
    "                    for index, letter in enumerate(alphabet):\n",
    "\n",
    "                        if element == letter:\n",
    "\n",
    "                            decrypted_output.append(alphabet[loc - shift])\n",
    "\n",
    "                else:\n",
    "                    pass\n",
    "\n",
    "               ######################################################################\n",
    "\n",
    "            else:\n",
    "                pass\n",
    "\n",
    "        return decrypted_output\n",
    "    ##################################################################################\n",
    "\n",
    "    if direction == \"encode\":\n",
    "\n",
    "        encrypt(text1 = text, shift1 = shift)\n",
    "        print(\"your encrypted message is:\", encrypted_output)\n",
    "        \n",
    "    if direction == \"decode\":\n",
    "\n",
    "        decrypt(text1 = text, shift1 = shift)\n",
    "        print(\"your decrypted message is:\", decrypted_output)\n",
    "\n",
    "    if direction == \"encode\" or direction == \"decode\":\n",
    "\n",
    "        choice = input(\"Try again? Y N\").lower()\n",
    "\n",
    "        if choice == \"y\": \n",
    "\n",
    "            a = 0\n",
    "\n",
    "        if choice == \"n\":\n",
    "\n",
    "            a = 1\n",
    "    \n"
   ]
  },
  {
   "cell_type": "code",
   "execution_count": null,
   "id": "40279a2c-30f0-4f23-869e-df74cc8694cb",
   "metadata": {},
   "outputs": [],
   "source": [
    "encrypted_output"
   ]
  },
  {
   "cell_type": "code",
   "execution_count": null,
   "id": "08a4fff3-e9c7-463e-a0e4-cb6a14acb42b",
   "metadata": {},
   "outputs": [],
   "source": [
    "type(alphabet)"
   ]
  },
  {
   "cell_type": "code",
   "execution_count": null,
   "id": "c3319873-14f3-4f5b-8393-7eca9a08522b",
   "metadata": {},
   "outputs": [],
   "source": [
    "loc = alphabet.index(text)"
   ]
  },
  {
   "cell_type": "code",
   "execution_count": null,
   "id": "fe3c0cb9-7654-4727-8d7b-09f680fdf073",
   "metadata": {},
   "outputs": [],
   "source": [
    "loc"
   ]
  },
  {
   "cell_type": "code",
   "execution_count": null,
   "id": "03f553aa-9e5e-4c83-80d0-fc2c2a34f2e7",
   "metadata": {},
   "outputs": [],
   "source": [
    "alphabet = ['a', 'b', 'c', 'd', 'e', 'f', 'g', 'h', 'i', 'j', 'k', 'l', 'm', 'n', 'o', 'p', 'q', 'r', 's', 't', 'u', 'v', 'w', 'x', 'y', 'z']"
   ]
  },
  {
   "cell_type": "code",
   "execution_count": null,
   "id": "5031ae2a-df5b-4b73-8da2-51465f9aed5a",
   "metadata": {},
   "outputs": [],
   "source": [
    "alphabet[0:3]"
   ]
  },
  {
   "cell_type": "code",
   "execution_count": null,
   "id": "894cb8cf-638b-4433-a624-9c59b04b1a38",
   "metadata": {},
   "outputs": [],
   "source": []
  }
 ],
 "metadata": {
  "kernelspec": {
   "display_name": "Python 3 (ipykernel)",
   "language": "python",
   "name": "python3"
  },
  "language_info": {
   "codemirror_mode": {
    "name": "ipython",
    "version": 3
   },
   "file_extension": ".py",
   "mimetype": "text/x-python",
   "name": "python",
   "nbconvert_exporter": "python",
   "pygments_lexer": "ipython3",
   "version": "3.9.12"
  }
 },
 "nbformat": 4,
 "nbformat_minor": 5
}
