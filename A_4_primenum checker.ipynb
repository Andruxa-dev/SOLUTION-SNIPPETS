{
 "cells": [
  {
   "cell_type": "code",
   "execution_count": null,
   "id": "5a6ae856-6380-4339-a797-3fa0fc1b6a59",
   "metadata": {},
   "outputs": [],
   "source": [
    "#Task\n",
    "#write a snippet that checks on whether or not inputted number is a prime number\n",
    "\n",
    "#SUMMARY\n",
    "#add conditions on what logic makes the prime number to be prime\n",
    "#prompt user input\n",
    "#inform user on whether the number entered is prime or not"
   ]
  },
  {
   "cell_type": "code",
   "execution_count": 4,
   "id": "25fa53e8-b885-4509-bf2e-0493ccdca947",
   "metadata": {},
   "outputs": [
    {
     "name": "stdin",
     "output_type": "stream",
     "text": [
      "Check this number:  6\n"
     ]
    },
    {
     "name": "stdout",
     "output_type": "stream",
     "text": [
      "It's not a prime number.\n"
     ]
    }
   ],
   "source": [
    "#Write your code below this line 👇\n",
    "\n",
    "div_list =[2,3,4,5,6,7,8,9]\n",
    "\n",
    "def prime_checker(number):\n",
    "    a = 0\n",
    "    for element in div_list:\n",
    "        \n",
    "        if number !=element and number % element ==0:\n",
    "   \n",
    "            a = \"It's not a prime number.\"\n",
    "            \n",
    "        else:\n",
    "            pass\n",
    "    \n",
    "    if a !=\"It's not a prime number.\":\n",
    "    \n",
    "        a = \"It's a prime number.\"\n",
    "        \n",
    "    print(a)\n",
    "\n",
    "#Write your code above this line 👆    \n",
    "#Do NOT change any of the code below👇\n",
    "n = int(input(\"Check this number: \"))\n",
    "prime_checker(number=n)\n"
   ]
  },
  {
   "cell_type": "code",
   "execution_count": null,
   "id": "16fa9171-6bee-40cd-9eb1-bcea1844b269",
   "metadata": {},
   "outputs": [],
   "source": []
  }
 ],
 "metadata": {
  "kernelspec": {
   "display_name": "Python 3 (ipykernel)",
   "language": "python",
   "name": "python3"
  },
  "language_info": {
   "codemirror_mode": {
    "name": "ipython",
    "version": 3
   },
   "file_extension": ".py",
   "mimetype": "text/x-python",
   "name": "python",
   "nbconvert_exporter": "python",
   "pygments_lexer": "ipython3",
   "version": "3.9.12"
  }
 },
 "nbformat": 4,
 "nbformat_minor": 5
}
